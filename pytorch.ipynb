{
 "cells": [
  {
   "attachments": {},
   "cell_type": "markdown",
   "metadata": {},
   "source": [
    "### Pytorch\n",
    "Prepare data"
   ]
  },
  {
   "cell_type": "code",
   "execution_count": 1,
   "metadata": {},
   "outputs": [],
   "source": [
    "import pandas as pd\n",
    "\n",
    "white_wine = pd.read_csv('data/winequality-white.csv', delimiter = ';')\n",
    "red_wine = pd.read_csv('data/winequality-red.csv', delimiter = ';')\n",
    "\n",
    "white_wine['color'] = 'w'\n",
    "red_wine['color'] = 'r'\n",
    "df = pd.concat([white_wine, red_wine])"
   ]
  }
 ],
 "metadata": {
  "kernelspec": {
   "display_name": "neural_networks_1-WsxiH_7a",
   "language": "python",
   "name": "python3"
  },
  "language_info": {
   "codemirror_mode": {
    "name": "ipython",
    "version": 3
   },
   "file_extension": ".py",
   "mimetype": "text/x-python",
   "name": "python",
   "nbconvert_exporter": "python",
   "pygments_lexer": "ipython3",
   "version": "3.10.4"
  },
  "orig_nbformat": 4
 },
 "nbformat": 4,
 "nbformat_minor": 2
}
